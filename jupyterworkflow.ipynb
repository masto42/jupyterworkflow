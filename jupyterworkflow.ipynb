{
 "cells": [
  {
   "cell_type": "code",
   "execution_count": 1,
   "metadata": {},
   "outputs": [],
   "source": [
    "import numpy as np\n",
    "import pandas as pd"
   ]
  },
  {
   "cell_type": "code",
   "execution_count": 2,
   "metadata": {},
   "outputs": [],
   "source": [
    "# load data file\n",
    "data_file = pd.read_excel('jeu_de_données.xlsx')"
   ]
  },
  {
   "cell_type": "code",
   "execution_count": 3,
   "metadata": {},
   "outputs": [],
   "source": [
    "nom = data_file['Nom']"
   ]
  },
  {
   "cell_type": "code",
   "execution_count": 4,
   "metadata": {},
   "outputs": [],
   "source": [
    "prenom = data_file['Prénom']"
   ]
  },
  {
   "cell_type": "code",
   "execution_count": 102,
   "metadata": {},
   "outputs": [],
   "source": [
    "moyenne = data_file['Moyenne']"
   ]
  },
  {
   "cell_type": "code",
   "execution_count": 103,
   "metadata": {},
   "outputs": [],
   "source": [
    "age = data_file['Age']"
   ]
  },
  {
   "cell_type": "code",
   "execution_count": 104,
   "metadata": {},
   "outputs": [],
   "source": [
    "sexe = data_file['Sexe']"
   ]
  },
  {
   "cell_type": "code",
   "execution_count": 105,
   "metadata": {},
   "outputs": [],
   "source": [
    "moyenne = data_file['Moyenne']"
   ]
  },
  {
   "cell_type": "code",
   "execution_count": 11,
   "metadata": {},
   "outputs": [
    {
     "name": "stdout",
     "output_type": "stream",
     "text": [
      "Index(['Nom', 'Prénom', 'Adresse', 'Moyenne', 'Age', 'Région', 'Spécialité ',\n",
      "       'Sexe'],\n",
      "      dtype='object')\n"
     ]
    }
   ],
   "source": [
    "print(data_file.columns)"
   ]
  },
  {
   "cell_type": "code",
   "execution_count": 12,
   "metadata": {},
   "outputs": [],
   "source": [
    "# extraction du fichier contanant la liste des élèves ayant la moyenne\n",
    "liste_des_eleves_ayant_la_moyenne = data_file.loc[data_file['Moyenne'] >= 10.00]"
   ]
  },
  {
   "cell_type": "code",
   "execution_count": 13,
   "metadata": {},
   "outputs": [
    {
     "name": "stdout",
     "output_type": "stream",
     "text": [
      "            Nom     Prénom                         Adresse  Moyenne  Age  \\\n",
      "0          fall    mahanta             34 rue jules ledin     12.67   22   \n",
      "1      levesque   florient          17 rue olivier dacourt    11.24   22   \n",
      "2         avrin       aude             3 impasse lafayette    10.87   19   \n",
      "3        bouart       mari                 8 rue ferdinand    14.25   22   \n",
      "5     Boulanger      jimmy                   1 rue flobert    11.29   21   \n",
      "7          hadi    othmane            14 rue des floralies    15.84   21   \n",
      "8          asri      manal            23 rue andré delorme    10.54   22   \n",
      "9         lubin     ulysse              44 rue franz liszt    10.32   19   \n",
      "11       gorbel    yasmine               3 allée du gachet    11.29   23   \n",
      "12      carudel    tristan              14 allée du vignon    15.46   21   \n",
      "13      lebosse      siman                   8 rue heurier    13.45   21   \n",
      "14      rolland        léa         7 chemin de la bernerie    10.32   22   \n",
      "16     eliasint       rudy            12 place jean jaurés    11.24   21   \n",
      "17  thiagarassa   pratheep           8 rue pierre morcillo    10.25   18   \n",
      "18        prana     marine               3 rue de la corre    13.64   22   \n",
      "19        fedon     naomie                 11 rue sablière    15.42   22   \n",
      "20       jouant    olivier        2 avenue danfer rocherau    11.34   24   \n",
      "21        gueye    ousmane               12 rue dupuytren     11.89   25   \n",
      "23       simard    gaspard            12 rue edouard petit    11.45   23   \n",
      "24         roux       loic                    25 rue foche    10.25   21   \n",
      "25        ragot  cassandre                  1 rue violette    12.24   22   \n",
      "26   lachapelle     samuel              14 rue jules ledin    17.27   19   \n",
      "27      chauvet        noe        8 rue de la lithographie    11.14   22   \n",
      "28      lessard     damien          3 rue eugene delacroix    10.32   22   \n",
      "29    depierres      julie     25 boulevard des états unis    10.55   22   \n",
      "32    letournau      diego            34 rue edgard quinet    12.12   22   \n",
      "33       bureau    bastien               7 rue de la valse    10.45   23   \n",
      "34    berthiome      alban            9 rue emile clermont    10.23   23   \n",
      "35    echeverri     dorian                 7 rue verriers     11.32   22   \n",
      "36      labelle      mateo          9 impasse de la montat    14.21   22   \n",
      "..          ...        ...                             ...      ...  ...   \n",
      "44   cuillerier   corentin        24 rue des puits lachaud    12.14   20   \n",
      "45        morin     victor          2 rue hector chalumeau    14.56   22   \n",
      "46         wane       yaya            29 rue henri brisson    13.47   22   \n",
      "47      pastord    camille             4 boulevard pasteur    11.02   22   \n",
      "48      flessel      laura    11 place de l'hotel de ville    10.96   24   \n",
      "49         wang      juang                   5 rue du parc    10.65   25   \n",
      "52      allaire     martin       11 rue blanchon benedicte    12.35   26   \n",
      "55       piegay     martin            8 rue du 11 mai 1945    12.45   22   \n",
      "56      flament     flavie  7 chemin guillaume apollinaire    15.68   22   \n",
      "57      loukili      iness              9 rue guy colombet    14.68   22   \n",
      "58      labonté   augustin                5 allée guynemer    14.32   25   \n",
      "59       chabot    mathias             9 rue d'outre furan    11.05   22   \n",
      "60        blanc      alban                 17 rue paillard    12.32   23   \n",
      "61        lison   mathilde           9 allée eugéne varlin    13.24   22   \n",
      "62      jacques     jeremy  44 boulevard du 38eme régiment    10.32   21   \n",
      "65    desnoyers    killian                17 cours fauriel    12.32   22   \n",
      "66       delord     rachel           9 rue de la formation    14.25   22   \n",
      "67      bourque     morgan                   7 rue flobert    12.36   19   \n",
      "68     brunelle      sacha             19 rue marcel berne    11.05   22   \n",
      "69        mbaye   pourmera              3 avenue du moulin    10.32   22   \n",
      "70       sesson       maya              17 rue marcel paul    10.65   22   \n",
      "72     delavoix  charlotte              21 rue fleuralisse    12.65   21   \n",
      "74      guertin    anthony             5 impasse du savana    10.39   20   \n",
      "75       sechet   mathilde             8 rue louis braille    15.36   22   \n",
      "76       racine    charles              17 rue de lougansk    10.35   22   \n",
      "78   de'almeida       remi         14 rue de la logistique    10.32   22   \n",
      "81    paimboeuf      david                  11 rue marengo    12.34   22   \n",
      "82      desmont    johanna             10 place fourneyron    10.29   23   \n",
      "83       busque      robin          14 rue albert françois    10.48   21   \n",
      "84       quessy     jeremy            13 rue antoine poyet    12.65   22   \n",
      "\n",
      "           Région   Spécialité       Sexe  \n",
      "0   saint etienne       telecom  masculin  \n",
      "1           paris  electronique  masculin  \n",
      "2           paris         image   féminin  \n",
      "3            lyon       réseaux   féminin  \n",
      "5   saint etienne       réseaux  masculin  \n",
      "7        toulouse    photonique  masculin  \n",
      "8            nice         image   féminin  \n",
      "9       marseille       telecom  masculin  \n",
      "11       bretagne       telecom   féminin  \n",
      "12          rouen       réseaux  masculin  \n",
      "13       bretagne  éléctronique  masculin  \n",
      "14       toulouse         image   féminin  \n",
      "16     strasbourg    photonique  masculin  \n",
      "17          paris         image  masculin  \n",
      "18           lyon  éléctronique   féminin  \n",
      "19          paris       telecom   féminin  \n",
      "20           nice    photonique  masculin  \n",
      "21  saint etienne       réseaux  masculin  \n",
      "23       bordeaux         image  masculin  \n",
      "24          paris       réseaux  masculin  \n",
      "25  saint etienne  electronique   féminin  \n",
      "26     strasbourg       telecom  masculin  \n",
      "27          lille       réseaux  masculin  \n",
      "28    La rochelle       telecom  masculin  \n",
      "29          Anecy         image   féminin  \n",
      "32      clermont        telecom  masculin  \n",
      "33          brest       réseaux  masculin  \n",
      "34  saint etienne         image  masculin  \n",
      "35          Anecy    photonique  masculin  \n",
      "36           lyon       telecom  masculin  \n",
      "..            ...           ...       ...  \n",
      "44      perpignan       telecom  masculin  \n",
      "45          lille       telecom  masculin  \n",
      "46       bretagne       réseaux  masculin  \n",
      "47       bordeaux         image   féminin  \n",
      "48          paris    photonique   féminin  \n",
      "49         nantes       telecom   féminin  \n",
      "52       grenoble       telecom  masculin  \n",
      "55    La rochelle       réseaux  masculin  \n",
      "56    montpellier       telecom   féminin  \n",
      "57            aix       telecom   féminin  \n",
      "58          paris       telecom  masculin  \n",
      "59       bordeaux    photonique  masculin  \n",
      "60         nantes  electronique  masculin  \n",
      "61          lille         image   féminin  \n",
      "62       bretagne       telecom  masculin  \n",
      "65  saint etienne  electronique  masculin  \n",
      "66       grenoble         image   féminin  \n",
      "67          paris    photonique  masculin  \n",
      "68      clermont        telecom  masculin  \n",
      "69           lyon  electronique   féminin  \n",
      "70     strasbourg       réseaux   féminin  \n",
      "72  saint etienne    photonique   féminin  \n",
      "74      perpignan       réseaux  masculin  \n",
      "75        avignon       réseaux   féminin  \n",
      "76    montpellier       telecom  masculin  \n",
      "78        limoges       telecom  masculin  \n",
      "81    montpellier         image  masculin  \n",
      "82          nancy       telecom   féminin  \n",
      "83           metz    photonique  masculin  \n",
      "84          nimes  electronique  masculin  \n",
      "\n",
      "[63 rows x 8 columns]\n"
     ]
    }
   ],
   "source": [
    "print(liste_des_eleves_ayant_la_moyenne)"
   ]
  },
  {
   "cell_type": "code",
   "execution_count": null,
   "metadata": {},
   "outputs": [],
   "source": [
    "# creation du fichier excel contenant la liste des élèves ayant la moyenne\n",
    "liste_des_eleves_ayant_la_moyenne.to_excel('liste_des_eleves_ayant_la_moyenne.xlsx')"
   ]
  },
  {
   "cell_type": "code",
   "execution_count": 14,
   "metadata": {},
   "outputs": [],
   "source": [
    "# extraction du fichier contenant la liste des élèves ayant plus de 20 ans\n",
    "liste_des_eleves_ayant_plus_de_20_ans = data_file.loc[data_file['Age'] >= 20]"
   ]
  },
  {
   "cell_type": "code",
   "execution_count": 15,
   "metadata": {},
   "outputs": [
    {
     "name": "stdout",
     "output_type": "stream",
     "text": [
      "             Nom     Prénom                         Adresse  Moyenne  Age  \\\n",
      "0           fall    mahanta             34 rue jules ledin     12.67   22   \n",
      "1       levesque   florient          17 rue olivier dacourt    11.24   22   \n",
      "3         bouart       mari                 8 rue ferdinand    14.25   22   \n",
      "4        frignac    mélodie               37 rue des adieux     9.85   21   \n",
      "5      Boulanger      jimmy                   1 rue flobert    11.29   21   \n",
      "6        hassani       omar           12 place de la mairie     9.47   23   \n",
      "7           hadi    othmane            14 rue des floralies    15.84   21   \n",
      "8           asri      manal            23 rue andré delorme    10.54   22   \n",
      "10           nya     dexter             4 rue andré malraux     9.32   22   \n",
      "11        gorbel    yasmine               3 allée du gachet    11.29   23   \n",
      "12       carudel    tristan              14 allée du vignon    15.46   21   \n",
      "13       lebosse      siman                   8 rue heurier    13.45   21   \n",
      "14       rolland        léa         7 chemin de la bernerie    10.32   22   \n",
      "15     labrahimi      hamza           19 rue camille-saens      8.67   22   \n",
      "16      eliasint       rudy            12 place jean jaurés    11.24   21   \n",
      "18         prana     marine               3 rue de la corre    13.64   22   \n",
      "19         fedon     naomie                 11 rue sablière    15.42   22   \n",
      "20        jouant    olivier        2 avenue danfer rocherau    11.34   24   \n",
      "21         gueye    ousmane               12 rue dupuytren     11.89   25   \n",
      "22      lapierre    antonin           7 allée edouard lallo     9.25   22   \n",
      "23        simard    gaspard            12 rue edouard petit    11.45   23   \n",
      "24          roux       loic                    25 rue foche    10.25   21   \n",
      "25         ragot  cassandre                  1 rue violette    12.24   22   \n",
      "27       chauvet        noe        8 rue de la lithographie    11.14   22   \n",
      "28       lessard     damien          3 rue eugene delacroix    10.32   22   \n",
      "29     depierres      julie     25 boulevard des états unis    10.55   22   \n",
      "30     lanteigne    jordan               12 rue edgard déga     9.58   21   \n",
      "31       cotuand     gaetan                    5 rue moulin     7.14   23   \n",
      "32     letournau      diego            34 rue edgard quinet    12.12   22   \n",
      "33        bureau    bastien               7 rue de la valse    10.45   23   \n",
      "..           ...        ...                             ...      ...  ...   \n",
      "53       bachet     morgane              54 avenue beranger     9.32   22   \n",
      "54        bisson       yann            8 place de la nation     7.63   22   \n",
      "55        piegay     martin            8 rue du 11 mai 1945    12.45   22   \n",
      "56       flament     flavie  7 chemin guillaume apollinaire    15.68   22   \n",
      "57       loukili      iness              9 rue guy colombet    14.68   22   \n",
      "58       labonté   augustin                5 allée guynemer    14.32   25   \n",
      "59        chabot    mathias             9 rue d'outre furan    11.05   22   \n",
      "60         blanc      alban                 17 rue paillard    12.32   23   \n",
      "61         lison   mathilde           9 allée eugéne varlin    13.24   22   \n",
      "62       jacques     jeremy  44 boulevard du 38eme régiment    10.32   21   \n",
      "63       mounier  alexandra                    8 rue alliée     9.65   20   \n",
      "64  desruisseaux     arnaud               5 rue faure belon     8.65   22   \n",
      "65     desnoyers    killian                17 cours fauriel    12.32   22   \n",
      "66        delord     rachel           9 rue de la formation    14.25   22   \n",
      "68      brunelle      sacha             19 rue marcel berne    11.05   22   \n",
      "69         mbaye   pourmera              3 avenue du moulin    10.32   22   \n",
      "70        sesson       maya              17 rue marcel paul    10.65   22   \n",
      "71        fillon    estelle                    3 rue forges     9.04   24   \n",
      "72      delavoix  charlotte              21 rue fleuralisse    12.65   21   \n",
      "73       fortier       alex           17 rue du 4 septembre     8.32   21   \n",
      "74       guertin    anthony             5 impasse du savana    10.39   20   \n",
      "75        sechet   mathilde             8 rue louis braille    15.36   22   \n",
      "76        racine    charles              17 rue de lougansk    10.35   22   \n",
      "77       chauvet      oscar          9 allée louis duschéne     8.35   22   \n",
      "78    de'almeida       remi         14 rue de la logistique    10.32   22   \n",
      "79        bisson    mathieu                1 rue marthourey     7.34   22   \n",
      "81     paimboeuf      david                  11 rue marengo    12.34   22   \n",
      "82       desmont    johanna             10 place fourneyron    10.29   23   \n",
      "83        busque      robin          14 rue albert françois    10.48   21   \n",
      "84        quessy     jeremy            13 rue antoine poyet    12.65   22   \n",
      "\n",
      "           Région   Spécialité       Sexe  \n",
      "0   saint etienne       telecom  masculin  \n",
      "1           paris  electronique  masculin  \n",
      "3            lyon       réseaux   féminin  \n",
      "4           lille       telecom   féminin  \n",
      "5   saint etienne       réseaux  masculin  \n",
      "6   saint etienne       telecom  masculin  \n",
      "7        toulouse    photonique  masculin  \n",
      "8            nice         image   féminin  \n",
      "10       poitiers    photonique  masculin  \n",
      "11       bretagne       telecom   féminin  \n",
      "12          rouen       réseaux  masculin  \n",
      "13       bretagne  éléctronique  masculin  \n",
      "14       toulouse         image   féminin  \n",
      "15           lyon       telecom  masculin  \n",
      "16     strasbourg    photonique  masculin  \n",
      "18           lyon  éléctronique   féminin  \n",
      "19          paris       telecom   féminin  \n",
      "20           nice    photonique  masculin  \n",
      "21  saint etienne       réseaux  masculin  \n",
      "22           lyon  electronique  masculin  \n",
      "23       bordeaux         image  masculin  \n",
      "24          paris       réseaux  masculin  \n",
      "25  saint etienne  electronique   féminin  \n",
      "27          lille       réseaux  masculin  \n",
      "28    La rochelle       telecom  masculin  \n",
      "29          Anecy         image   féminin  \n",
      "30          paris    photonique  masculin  \n",
      "31           nice  electronique  masculin  \n",
      "32      clermont        telecom  masculin  \n",
      "33          brest       réseaux  masculin  \n",
      "..            ...           ...       ...  \n",
      "53     strasbourg  electronique   féminin  \n",
      "54  saint etienne    photonique  masculin  \n",
      "55    La rochelle       réseaux  masculin  \n",
      "56    montpellier       telecom   féminin  \n",
      "57            aix       telecom   féminin  \n",
      "58          paris       telecom  masculin  \n",
      "59       bordeaux    photonique  masculin  \n",
      "60         nantes  electronique  masculin  \n",
      "61          lille         image   féminin  \n",
      "62       bretagne       telecom  masculin  \n",
      "63           lyon       réseaux   féminin  \n",
      "64      clermont        réseaux  masculin  \n",
      "65  saint etienne  electronique  masculin  \n",
      "66       grenoble         image   féminin  \n",
      "68      clermont        telecom  masculin  \n",
      "69           lyon  electronique   féminin  \n",
      "70     strasbourg       réseaux   féminin  \n",
      "71         nantes       telecom   féminin  \n",
      "72  saint etienne    photonique   féminin  \n",
      "73          nimes       réseaux  masculin  \n",
      "74      perpignan       réseaux  masculin  \n",
      "75        avignon       réseaux   féminin  \n",
      "76    montpellier       telecom  masculin  \n",
      "77  saint etienne       telecom  masculin  \n",
      "78        limoges       telecom  masculin  \n",
      "79         angers  electronique  masculin  \n",
      "81    montpellier         image  masculin  \n",
      "82          nancy       telecom   féminin  \n",
      "83           metz    photonique  masculin  \n",
      "84          nimes  electronique  masculin  \n",
      "\n",
      "[79 rows x 8 columns]\n"
     ]
    }
   ],
   "source": [
    "print(liste_des_eleves_ayant_plus_de_20_ans)"
   ]
  },
  {
   "cell_type": "code",
   "execution_count": null,
   "metadata": {},
   "outputs": [],
   "source": [
    "# création du fichier excel contenant la liste des élèves ayant plus de 20 ans \n",
    "liste_des_eleves_ayant_plus_de_20_ans.to_excel('liste_des_eleves_ayant_plus_de_20_ans.xlsx')"
   ]
  },
  {
   "cell_type": "code",
   "execution_count": 106,
   "metadata": {},
   "outputs": [],
   "source": [
    "# calcul de la moyenne de l'école\n",
    "moyenne_ecole = moyenne.mean()"
   ]
  },
  {
   "cell_type": "code",
   "execution_count": 107,
   "metadata": {},
   "outputs": [
    {
     "name": "stdout",
     "output_type": "stream",
     "text": [
      "11.246823529411763\n"
     ]
    }
   ],
   "source": [
    "print(moyenne_ecole)"
   ]
  },
  {
   "cell_type": "code",
   "execution_count": 108,
   "metadata": {},
   "outputs": [
    {
     "name": "stdout",
     "output_type": "stream",
     "text": [
      "31.76470588235294\n",
      "68.23529411764706\n"
     ]
    }
   ],
   "source": [
    "# calcul du pourcentage de filles et de garçons\n",
    "\n",
    "liste_des_eleves_filles = data_file.loc[data_file['Sexe'] == 'féminin']    \n",
    "a = len(liste_des_eleves_filles)\n",
    "b = len(sexe)\n",
    "pourc_f = a/b*100\n",
    "print(pourc_f)\n",
    "pourc_g = 100 - pourc_f\n",
    "print(pourc_g)"
   ]
  },
  {
   "cell_type": "code",
   "execution_count": 109,
   "metadata": {},
   "outputs": [],
   "source": [
    "region = data_file['Région']"
   ]
  },
  {
   "cell_type": "code",
   "execution_count": 110,
   "metadata": {},
   "outputs": [
    {
     "name": "stdout",
     "output_type": "stream",
     "text": [
      "{'nantes': 3, 'nice': 3, 'metz': 1, 'perpignan': 2, 'bretagne': 4, 'La rochelle': 3, 'nancy': 1, 'toulouse': 2, 'Anecy': 2, 'poitiers': 1, 'rouen': 1, 'paris': 10, 'nimes': 2, 'bordeaux': 4, 'reims': 1, 'avignon': 1, 'marseille': 3, 'limoges': 1, 'saint etienne': 11, 'aix': 1, 'lyon': 9, 'clermont ': 3, 'brest': 1, 'angers': 1, 'strasbourg': 5, 'grenoble': 2, 'lille': 4, 'montpellier': 3}\n"
     ]
    }
   ],
   "source": [
    "# on va commencer par determiner le nombre d'occurence de nos régions dans notre fichier\n",
    "# cela nous permet de visualiser les différentes types de regions d'ou proviennent nos eleves\n",
    "occurence_des_regions = {}.fromkeys(set(region),0)\n",
    "for valeur in region:\n",
    "    occurence_des_regions[valeur] += 1\n",
    "print(occurence_des_regions)"
   ]
  },
  {
   "cell_type": "code",
   "execution_count": 34,
   "metadata": {},
   "outputs": [],
   "source": [
    "# par exemple on va acceder au groupe d'eleves provenant de nantes\n",
    "region_nantes = data_file.loc[data_file['Région'] == 'nantes']"
   ]
  },
  {
   "cell_type": "code",
   "execution_count": 36,
   "metadata": {},
   "outputs": [],
   "source": [
    "# ensuite on accéde aux moyennes des eleves provenant de nantes\n",
    "nantes_moyenne = region_nantes['Moyenne']"
   ]
  },
  {
   "cell_type": "code",
   "execution_count": 39,
   "metadata": {},
   "outputs": [],
   "source": [
    "# ensuite on calcule la moyenne de ce groupe spécifique d'eleves\n",
    "la_moyenne_de_nantes = nantes_moyenne.mean()"
   ]
  },
  {
   "cell_type": "code",
   "execution_count": 40,
   "metadata": {},
   "outputs": [
    {
     "name": "stdout",
     "output_type": "stream",
     "text": [
      "10.67\n"
     ]
    }
   ],
   "source": [
    "# enfin on affiche la moyenne obtenu pour vérifier que ça marche\n",
    "print(la_moyenne_de_nantes)"
   ]
  },
  {
   "cell_type": "code",
   "execution_count": 41,
   "metadata": {},
   "outputs": [
    {
     "name": "stdout",
     "output_type": "stream",
     "text": [
      "9.673333333333334\n"
     ]
    }
   ],
   "source": [
    "# on repete ce procédé pour les autres régions\n",
    "# il convient de noter que ce procédé semble laborieux surtout si la taille u fichier et plus volumineux\n",
    "# il existe sans doute une méthode plus rapide et moins laborieuse pour accomplir cette tache\n",
    "region_nice = data_file.loc[data_file['Région'] == 'nice']\n",
    "nice_moyenne = region_nice['Moyenne']\n",
    "la_moyenne_de_nice = nice_moyenne.mean()\n",
    "print(la_moyenne_de_nice)"
   ]
  },
  {
   "cell_type": "code",
   "execution_count": 42,
   "metadata": {},
   "outputs": [
    {
     "name": "stdout",
     "output_type": "stream",
     "text": [
      "10.48\n"
     ]
    }
   ],
   "source": [
    "region_metz = data_file.loc[data_file['Région'] == 'metz']\n",
    "metz_moyenne = region_metz['Moyenne']\n",
    "la_moyenne_de_metz = metz_moyenne.mean()\n",
    "print(la_moyenne_de_metz)"
   ]
  },
  {
   "cell_type": "code",
   "execution_count": 43,
   "metadata": {},
   "outputs": [
    {
     "name": "stdout",
     "output_type": "stream",
     "text": [
      "11.265\n"
     ]
    }
   ],
   "source": [
    "region_perpignan = data_file.loc[data_file['Région'] == 'perpignan']\n",
    "perpignan_moyenne = region_perpignan['Moyenne']\n",
    "la_moyenne_de_perpignan = perpignan_moyenne.mean()\n",
    "print(la_moyenne_de_perpignan)"
   ]
  },
  {
   "cell_type": "code",
   "execution_count": 44,
   "metadata": {},
   "outputs": [
    {
     "name": "stdout",
     "output_type": "stream",
     "text": [
      "12.1325\n"
     ]
    }
   ],
   "source": [
    "region_bretagne = data_file.loc[data_file['Région'] == 'bretagne']\n",
    "bretagne_moyenne = region_bretagne['Moyenne']\n",
    "la_moyenne_de_bretagne = bretagne_moyenne.mean()\n",
    "print(la_moyenne_de_bretagne)"
   ]
  },
  {
   "cell_type": "code",
   "execution_count": 45,
   "metadata": {},
   "outputs": [
    {
     "name": "stdout",
     "output_type": "stream",
     "text": [
      "9.97\n"
     ]
    }
   ],
   "source": [
    "region_LaRochelle = data_file.loc[data_file['Région'] == 'La rochelle']\n",
    "LaRochelle_moyenne = region_LaRochelle['Moyenne']\n",
    "la_moyenne_de_LaRochelle = LaRochelle_moyenne.mean()\n",
    "print(la_moyenne_de_LaRochelle)"
   ]
  },
  {
   "cell_type": "code",
   "execution_count": 46,
   "metadata": {},
   "outputs": [
    {
     "name": "stdout",
     "output_type": "stream",
     "text": [
      "10.29\n"
     ]
    }
   ],
   "source": [
    "region_nancy = data_file.loc[data_file['Région'] == 'nancy']\n",
    "nancy_moyenne = region_nancy['Moyenne']\n",
    "la_moyenne_de_nancy = nancy_moyenne.mean()\n",
    "print(la_moyenne_de_nancy)"
   ]
  },
  {
   "cell_type": "code",
   "execution_count": 47,
   "metadata": {},
   "outputs": [
    {
     "name": "stdout",
     "output_type": "stream",
     "text": [
      "13.08\n"
     ]
    }
   ],
   "source": [
    "region_toulouse = data_file.loc[data_file['Région'] == 'toulouse']\n",
    "toulouse_moyenne = region_toulouse['Moyenne']\n",
    "la_moyenne_de_toulouse = toulouse_moyenne.mean()\n",
    "print(la_moyenne_de_toulouse)"
   ]
  },
  {
   "cell_type": "code",
   "execution_count": 57,
   "metadata": {},
   "outputs": [
    {
     "name": "stdout",
     "output_type": "stream",
     "text": [
      "10.935\n"
     ]
    }
   ],
   "source": [
    "region_anecy = data_file.loc[data_file['Région'] == 'Anecy']\n",
    "anecy_moyenne = region_anecy['Moyenne']\n",
    "la_moyenne_de_anecy = anecy_moyenne.mean()\n",
    "print(la_moyenne_de_anecy)"
   ]
  },
  {
   "cell_type": "code",
   "execution_count": 58,
   "metadata": {},
   "outputs": [
    {
     "name": "stdout",
     "output_type": "stream",
     "text": [
      "9.32\n"
     ]
    }
   ],
   "source": [
    "region_poitiers = data_file.loc[data_file['Région'] == 'poitiers']\n",
    "poitiers_moyenne = region_poitiers['Moyenne']\n",
    "la_moyenne_de_poitiers = poitiers_moyenne.mean()\n",
    "print(la_moyenne_de_poitiers)"
   ]
  },
  {
   "cell_type": "code",
   "execution_count": 59,
   "metadata": {},
   "outputs": [
    {
     "name": "stdout",
     "output_type": "stream",
     "text": [
      "15.46\n"
     ]
    }
   ],
   "source": [
    "region_rouen = data_file.loc[data_file['Région'] == 'rouen']\n",
    "rouen_moyenne = region_rouen['Moyenne']\n",
    "la_moyenne_de_rouen = rouen_moyenne.mean()\n",
    "print(la_moyenne_de_rouen)"
   ]
  },
  {
   "cell_type": "code",
   "execution_count": 60,
   "metadata": {},
   "outputs": [
    {
     "name": "stdout",
     "output_type": "stream",
     "text": [
      "11.457\n"
     ]
    }
   ],
   "source": [
    "region_paris = data_file.loc[data_file['Région'] == 'paris']\n",
    "paris_moyenne = region_paris['Moyenne']\n",
    "la_moyenne_de_paris = paris_moyenne.mean()\n",
    "print(la_moyenne_de_paris)"
   ]
  },
  {
   "cell_type": "code",
   "execution_count": 61,
   "metadata": {},
   "outputs": [
    {
     "name": "stdout",
     "output_type": "stream",
     "text": [
      "10.485\n"
     ]
    }
   ],
   "source": [
    "region_nimes = data_file.loc[data_file['Région'] == 'nimes']\n",
    "nimes_moyenne = region_nimes['Moyenne']\n",
    "la_moyenne_de_nimes = nimes_moyenne.mean()\n",
    "print(la_moyenne_de_nimes)"
   ]
  },
  {
   "cell_type": "code",
   "execution_count": 62,
   "metadata": {},
   "outputs": [
    {
     "name": "stdout",
     "output_type": "stream",
     "text": [
      "10.84\n"
     ]
    }
   ],
   "source": [
    "region_bordeaux = data_file.loc[data_file['Région'] == 'bordeaux']\n",
    "bordeaux_moyenne = region_bordeaux['Moyenne']\n",
    "la_moyenne_de_bordeaux = bordeaux_moyenne.mean()\n",
    "print(la_moyenne_de_bordeaux)"
   ]
  },
  {
   "cell_type": "code",
   "execution_count": 63,
   "metadata": {},
   "outputs": [
    {
     "name": "stdout",
     "output_type": "stream",
     "text": [
      "8.63\n"
     ]
    }
   ],
   "source": [
    "region_reims = data_file.loc[data_file['Région'] == 'reims']\n",
    "reims_moyenne = region_reims['Moyenne']\n",
    "la_moyenne_de_reims = reims_moyenne.mean()\n",
    "print(la_moyenne_de_reims)"
   ]
  },
  {
   "cell_type": "code",
   "execution_count": 64,
   "metadata": {},
   "outputs": [
    {
     "name": "stdout",
     "output_type": "stream",
     "text": [
      "15.36\n"
     ]
    }
   ],
   "source": [
    "region_avignon = data_file.loc[data_file['Région'] == 'avignon']\n",
    "avignon_moyenne = region_avignon['Moyenne']\n",
    "la_moyenne_de_avignon = avignon_moyenne.mean()\n",
    "print(la_moyenne_de_avignon)"
   ]
  },
  {
   "cell_type": "code",
   "execution_count": 65,
   "metadata": {},
   "outputs": [
    {
     "name": "stdout",
     "output_type": "stream",
     "text": [
      "10.393333333333333\n"
     ]
    }
   ],
   "source": [
    "region_marseille = data_file.loc[data_file['Région'] == 'marseille']\n",
    "marseille_moyenne = region_marseille['Moyenne']\n",
    "la_moyenne_de_marseille = marseille_moyenne.mean()\n",
    "print(la_moyenne_de_marseille)"
   ]
  },
  {
   "cell_type": "code",
   "execution_count": 66,
   "metadata": {},
   "outputs": [
    {
     "name": "stdout",
     "output_type": "stream",
     "text": [
      "10.32\n"
     ]
    }
   ],
   "source": [
    "region_limoges = data_file.loc[data_file['Région'] == 'limoges']\n",
    "limoges_moyenne = region_limoges['Moyenne']\n",
    "la_moyenne_de_limoges = limoges_moyenne.mean()\n",
    "print(la_moyenne_de_limoges)"
   ]
  },
  {
   "cell_type": "code",
   "execution_count": 67,
   "metadata": {},
   "outputs": [
    {
     "name": "stdout",
     "output_type": "stream",
     "text": [
      "10.671818181818184\n"
     ]
    }
   ],
   "source": [
    "region_SaintEtienne = data_file.loc[data_file['Région'] == 'saint etienne']\n",
    "SaintEtienne_moyenne = region_SaintEtienne['Moyenne']\n",
    "la_moyenne_de_SaintEtienne = SaintEtienne_moyenne.mean()\n",
    "print(la_moyenne_de_SaintEtienne)"
   ]
  },
  {
   "cell_type": "code",
   "execution_count": 68,
   "metadata": {},
   "outputs": [
    {
     "name": "stdout",
     "output_type": "stream",
     "text": [
      "14.68\n"
     ]
    }
   ],
   "source": [
    "region_aix = data_file.loc[data_file['Région'] == 'aix']\n",
    "aix_moyenne = region_aix['Moyenne']\n",
    "la_moyenne_de_aix = aix_moyenne.mean()\n",
    "print(la_moyenne_de_aix)"
   ]
  },
  {
   "cell_type": "code",
   "execution_count": 69,
   "metadata": {},
   "outputs": [
    {
     "name": "stdout",
     "output_type": "stream",
     "text": [
      "11.09777777777778\n"
     ]
    }
   ],
   "source": [
    "region_lyon = data_file.loc[data_file['Région'] == 'lyon']\n",
    "lyon_moyenne = region_lyon['Moyenne']\n",
    "la_moyenne_de_lyon = lyon_moyenne.mean()\n",
    "print(la_moyenne_de_lyon)"
   ]
  },
  {
   "cell_type": "code",
   "execution_count": 71,
   "metadata": {},
   "outputs": [
    {
     "name": "stdout",
     "output_type": "stream",
     "text": [
      "10.606666666666667\n"
     ]
    }
   ],
   "source": [
    "region_clermont = data_file.loc[data_file['Région'] == 'clermont ']\n",
    "clermont_moyenne = region_clermont['Moyenne']\n",
    "la_moyenne_de_clermont = clermont_moyenne.mean()\n",
    "print(la_moyenne_de_clermont)"
   ]
  },
  {
   "cell_type": "code",
   "execution_count": 72,
   "metadata": {},
   "outputs": [
    {
     "name": "stdout",
     "output_type": "stream",
     "text": [
      "10.45\n"
     ]
    }
   ],
   "source": [
    "region_brest = data_file.loc[data_file['Région'] == 'brest']\n",
    "brest_moyenne = region_brest['Moyenne']\n",
    "la_moyenne_de_brest = brest_moyenne.mean()\n",
    "print(la_moyenne_de_brest)"
   ]
  },
  {
   "cell_type": "code",
   "execution_count": 73,
   "metadata": {},
   "outputs": [
    {
     "name": "stdout",
     "output_type": "stream",
     "text": [
      "7.34\n"
     ]
    }
   ],
   "source": [
    "region_angers = data_file.loc[data_file['Région'] == 'angers']\n",
    "angers_moyenne = region_angers['Moyenne']\n",
    "la_moyenne_de_angers = angers_moyenne.mean()\n",
    "print(la_moyenne_de_angers)"
   ]
  },
  {
   "cell_type": "code",
   "execution_count": 74,
   "metadata": {},
   "outputs": [
    {
     "name": "stdout",
     "output_type": "stream",
     "text": [
      "12.138\n"
     ]
    }
   ],
   "source": [
    "region_strasbourg = data_file.loc[data_file['Région'] == 'strasbourg']\n",
    "strasbourg_moyenne = region_strasbourg['Moyenne']\n",
    "la_moyenne_de_strasbourg = strasbourg_moyenne.mean()\n",
    "print(la_moyenne_de_strasbourg)"
   ]
  },
  {
   "cell_type": "code",
   "execution_count": 75,
   "metadata": {},
   "outputs": [
    {
     "name": "stdout",
     "output_type": "stream",
     "text": [
      "13.3\n"
     ]
    }
   ],
   "source": [
    "region_grenoble = data_file.loc[data_file['Région'] == 'grenoble']\n",
    "grenoble_moyenne = region_grenoble['Moyenne']\n",
    "la_moyenne_de_grenoble = grenoble_moyenne.mean()\n",
    "print(la_moyenne_de_grenoble)"
   ]
  },
  {
   "cell_type": "code",
   "execution_count": 76,
   "metadata": {},
   "outputs": [
    {
     "name": "stdout",
     "output_type": "stream",
     "text": [
      "12.197500000000002\n"
     ]
    }
   ],
   "source": [
    "region_lille = data_file.loc[data_file['Région'] == 'lille']\n",
    "lille_moyenne = region_lille['Moyenne']\n",
    "la_moyenne_de_lille = lille_moyenne.mean()\n",
    "print(la_moyenne_de_lille)"
   ]
  },
  {
   "cell_type": "code",
   "execution_count": 77,
   "metadata": {},
   "outputs": [
    {
     "name": "stdout",
     "output_type": "stream",
     "text": [
      "12.790000000000001\n"
     ]
    }
   ],
   "source": [
    "region_montpellier = data_file.loc[data_file['Région'] == 'montpellier']\n",
    "montpellier_moyenne = region_montpellier['Moyenne']\n",
    "la_moyenne_de_montpellier = montpellier_moyenne.mean()\n",
    "print(la_moyenne_de_montpellier)"
   ]
  },
  {
   "cell_type": "code",
   "execution_count": 78,
   "metadata": {},
   "outputs": [
    {
     "name": "stdout",
     "output_type": "stream",
     "text": [
      "[10.67, 12.790000000000001, 9.673333333333334, 10.48, 12.1325, 9.97, 10.29, 13.08, 10.935, 9.32, 15.46, 11.457, 10.485, 10.84, 8.63, 15.36, 10.393333333333333, 10.32, 10.671818181818184, 14.68, 11.09777777777778, 10.606666666666667, 10.45, 7.34, 12.138, 13.3, 12.197500000000002, 12.790000000000001]\n"
     ]
    }
   ],
   "source": [
    "liste_des_moyennes_des_villes =[la_moyenne_de_nantes, la_moyenne_de_montpellier, la_moyenne_de_nice, la_moyenne_de_metz, la_moyenne_de_bretagne, la_moyenne_de_LaRochelle, la_moyenne_de_nancy, la_moyenne_de_toulouse, la_moyenne_de_anecy, la_moyenne_de_poitiers, la_moyenne_de_rouen, la_moyenne_de_paris, la_moyenne_de_nimes, la_moyenne_de_bordeaux, la_moyenne_de_reims, la_moyenne_de_avignon, la_moyenne_de_marseille, la_moyenne_de_limoges, la_moyenne_de_SaintEtienne, la_moyenne_de_aix, la_moyenne_de_lyon, la_moyenne_de_clermont, la_moyenne_de_brest, la_moyenne_de_angers, la_moyenne_de_strasbourg, la_moyenne_de_grenoble, la_moyenne_de_lille, la_moyenne_de_montpellier]\n",
    "print(liste_des_moyennes_des_villes)"
   ]
  },
  {
   "cell_type": "code",
   "execution_count": 85,
   "metadata": {},
   "outputs": [],
   "source": [
    "la_moyenne_de_la_meilleur_region = max(liste_des_moyennes_des_villes)"
   ]
  },
  {
   "cell_type": "code",
   "execution_count": 86,
   "metadata": {},
   "outputs": [
    {
     "name": "stdout",
     "output_type": "stream",
     "text": [
      "15.46\n"
     ]
    }
   ],
   "source": [
    "print(la_moyenne_de_la_meilleur_region)"
   ]
  },
  {
   "cell_type": "code",
   "execution_count": 88,
   "metadata": {},
   "outputs": [],
   "source": [
    "la_region_la_plus_forte = 'Rouen'"
   ]
  },
  {
   "cell_type": "code",
   "execution_count": 89,
   "metadata": {},
   "outputs": [
    {
     "name": "stdout",
     "output_type": "stream",
     "text": [
      "Rouen\n"
     ]
    }
   ],
   "source": [
    "print(la_region_la_plus_forte)"
   ]
  },
  {
   "cell_type": "code",
   "execution_count": 115,
   "metadata": {},
   "outputs": [
    {
     "data": {
      "text/html": [
       "<div>\n",
       "<style scoped>\n",
       "    .dataframe tbody tr th:only-of-type {\n",
       "        vertical-align: middle;\n",
       "    }\n",
       "\n",
       "    .dataframe tbody tr th {\n",
       "        vertical-align: top;\n",
       "    }\n",
       "\n",
       "    .dataframe thead th {\n",
       "        text-align: right;\n",
       "    }\n",
       "</style>\n",
       "<table border=\"1\" class=\"dataframe\">\n",
       "  <thead>\n",
       "    <tr style=\"text-align: right;\">\n",
       "      <th></th>\n",
       "      <th>moyenne ecole</th>\n",
       "      <th>pourcentage de fille</th>\n",
       "      <th>pourcentage de garçon</th>\n",
       "      <th>la region qui a les meilleurs eleves</th>\n",
       "    </tr>\n",
       "  </thead>\n",
       "  <tbody>\n",
       "    <tr>\n",
       "      <th>0</th>\n",
       "      <td>11.246824</td>\n",
       "      <td>31.764706</td>\n",
       "      <td>68.235294</td>\n",
       "      <td>Rouen</td>\n",
       "    </tr>\n",
       "  </tbody>\n",
       "</table>\n",
       "</div>"
      ],
      "text/plain": [
       "   moyenne ecole  pourcentage de fille  pourcentage de garçon  \\\n",
       "0      11.246824             31.764706              68.235294   \n",
       "\n",
       "  la region qui a les meilleurs eleves  \n",
       "0                                Rouen  "
      ]
     },
     "execution_count": 115,
     "metadata": {},
     "output_type": "execute_result"
    }
   ],
   "source": [
    "# nous regroupons les statistiques obtenues plus haut afin de pouvoir creer un fichier excel avec les stats globales\n",
    "statistiques_globales_ecole = {'moyenne ecole':[moyenne_ecole], 'pourcentage de fille':[pourc_f], 'pourcentage de garçon':[pourc_g], 'la region qui a les meilleurs eleves':[la_region_la_plus_forte]}\n",
    "df = pd.DataFrame(data = statistiques_globales_ecole)\n",
    "df"
   ]
  },
  {
   "cell_type": "code",
   "execution_count": 114,
   "metadata": {},
   "outputs": [],
   "source": [
    "visualisation_des_statistiques = df\n",
    "visualisation_des_statistiques.to_excel('statistiques_globales.xlsx')"
   ]
  },
  {
   "cell_type": "code",
   "execution_count": null,
   "metadata": {},
   "outputs": [],
   "source": []
  }
 ],
 "metadata": {
  "kernelspec": {
   "display_name": "Python 3",
   "language": "python",
   "name": "python3"
  },
  "language_info": {
   "codemirror_mode": {
    "name": "ipython",
    "version": 3
   },
   "file_extension": ".py",
   "mimetype": "text/x-python",
   "name": "python",
   "nbconvert_exporter": "python",
   "pygments_lexer": "ipython3",
   "version": "3.7.3"
  }
 },
 "nbformat": 4,
 "nbformat_minor": 2
}
